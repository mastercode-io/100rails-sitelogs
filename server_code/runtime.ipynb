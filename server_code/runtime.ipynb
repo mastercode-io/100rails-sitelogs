{
 "cells": [
  {
   "cell_type": "code",
   "execution_count": 6,
   "id": "initial_id",
   "metadata": {
    "collapsed": true,
    "ExecuteTime": {
     "end_time": "2023-10-23T13:21:04.778918Z",
     "start_time": "2023-10-23T13:21:04.761538Z"
    }
   },
   "outputs": [
    {
     "name": "stdout",
     "output_type": "stream",
     "text": [
      "(0, [(datetime.time(6, 0), datetime.time(14, 30))])\n",
      "(2.0, [(datetime.time(6, 0), datetime.time(18, 0))])\n",
      "(2.0, [(datetime.time(8, 0), datetime.time(18, 0)), (datetime.time(20, 0), datetime.time(22, 0))])\n",
      "(0, [(datetime.time(18, 0), datetime.time(23, 0))])\n"
     ]
    }
   ],
   "source": [
    "from datetime import datetime, time, timedelta\n",
    "\n",
    "def time_frame_intersection(initial_start, initial_end, template_start, template_end):\n",
    "    # Extract time from datetime objects\n",
    "    initial_start_time = initial_start.time()\n",
    "    initial_end_time = initial_end.time()\n",
    "\n",
    "    # Check for intersection\n",
    "    intersection_exists = (initial_start_time < template_end) and (initial_end_time > template_start)\n",
    "    \n",
    "    intersect_hours = 0\n",
    "    remaining_times = []\n",
    "    \n",
    "    if intersection_exists:\n",
    "        # Calculate intersecting time period\n",
    "        intersect_start = max(initial_start_time, template_start)\n",
    "        intersect_end = min(initial_end_time, template_end)\n",
    "        \n",
    "        # Convert to datetime for easy subtraction\n",
    "        delta = datetime.combine(datetime.today(), intersect_end) - datetime.combine(datetime.today(), intersect_start)\n",
    "        \n",
    "        # Calculate the total hours as a float\n",
    "        intersect_hours = delta.total_seconds() / 3600\n",
    "        \n",
    "        # Calculate remaining time frames\n",
    "        remaining_start_1 = initial_start_time\n",
    "        remaining_end_1 = min(initial_end_time, template_start)\n",
    "        \n",
    "        remaining_start_2 = max(initial_start_time, template_end)\n",
    "        remaining_end_2 = initial_end_time\n",
    "        \n",
    "        # Add to remaining_times list\n",
    "        if remaining_start_1 < remaining_end_1:\n",
    "            remaining_times.append((remaining_start_1, remaining_end_1))\n",
    "        if remaining_start_2 < remaining_end_2:\n",
    "            remaining_times.append((remaining_start_2, remaining_end_2))\n",
    "    else:\n",
    "        remaining_times.append((initial_start_time, initial_end_time))\n",
    "    \n",
    "    return intersect_hours, remaining_times\n",
    "\n",
    "# Examples\n",
    "print(time_frame_intersection(datetime(2023, 10, 24, 6, 0), datetime(2023, 10, 24, 14, 30), time(18, 0), time(23, 0)))  # No intersection\n",
    "print(time_frame_intersection(datetime(2023, 10, 24, 6, 0), datetime(2023, 10, 24, 20, 0), time(18, 0), time(23, 0)))  # Overlap\n",
    "print(time_frame_intersection(datetime(2023, 10, 24, 8, 0), datetime(2023, 10, 24, 22, 0), time(18, 0), time(20, 0)))  # Overlap, both Remaining_1 and Remaining_2\n",
    "print(time_frame_intersection(datetime(2023, 10, 24, 18, 0), datetime(2023, 10, 24, 23, 0), time(6, 0), time(18, 0)))  # Overlap, only Remaining_2\n"
   ]
  },
  {
   "cell_type": "code",
   "execution_count": 7,
   "outputs": [
    {
     "name": "stdout",
     "output_type": "stream",
     "text": [
      "Test Date: 2020-02-15 00:00:00\n",
      "First Day: 2020-02-01 00:00:00\n",
      "Last Day: 2020-02-29 00:00:00\n",
      "\n",
      "Test Date: 2021-02-15 00:00:00\n",
      "First Day: 2021-02-01 00:00:00\n",
      "Last Day: 2021-02-28 00:00:00\n",
      "\n",
      "Test Date: 2021-12-15 00:00:00\n",
      "First Day: 2021-12-01 00:00:00\n",
      "Last Day: 2021-12-31 00:00:00\n",
      "\n",
      "Test Date: 2021-01-15 00:00:00\n",
      "First Day: 2021-01-01 00:00:00\n",
      "Last Day: 2021-01-31 00:00:00\n"
     ]
    }
   ],
   "source": [
    "from datetime import datetime, timedelta\n",
    "\n",
    "def calculate_first_and_last_days(test_date):\n",
    "    # Calculate and set the first day of the month to a variable\n",
    "    first_day_of_month = datetime(test_date.year, test_date.month, 1)\n",
    "    \n",
    "    # Calculate the next month and year\n",
    "    next_month = (test_date.month % 12) + 1\n",
    "    next_year = test_date.year + (test_date.month // 12)\n",
    "    \n",
    "    # Calculate and set the last day of the month to a variable\n",
    "    last_day_of_month = datetime(next_year, next_month, 1) - timedelta(days=1)\n",
    "\n",
    "    return first_day_of_month, last_day_of_month\n",
    "\n",
    "# Test the function with some edge cases\n",
    "test_dates = [\n",
    "    datetime(2020, 2, 15),  # Leap year, February\n",
    "    datetime(2021, 2, 15),  # Non-Leap year, February\n",
    "    datetime(2021, 12, 15), # End of the year\n",
    "    datetime(2021, 1, 15),  # Beginning of the year\n",
    "]\n",
    "\n",
    "for test_date in test_dates:\n",
    "    first_day, last_day = calculate_first_and_last_days(test_date)\n",
    "    print(f\"Test Date: {test_date}\")\n",
    "    print(f\"First Day: {first_day}\")\n",
    "    print(f\"Last Day: {last_day}\\n\")\n",
    "\n"
   ],
   "metadata": {
    "collapsed": false,
    "ExecuteTime": {
     "end_time": "2023-10-26T15:02:09.994974Z",
     "start_time": "2023-10-26T15:02:09.782476Z"
    }
   },
   "id": "30f2c00f382b7870"
  },
  {
   "cell_type": "code",
   "execution_count": null,
   "outputs": [],
   "source": [],
   "metadata": {
    "collapsed": false
   },
   "id": "1c2246c5a5fd7d7c"
  }
 ],
 "metadata": {
  "kernelspec": {
   "display_name": "Python 3",
   "language": "python",
   "name": "python3"
  },
  "language_info": {
   "codemirror_mode": {
    "name": "ipython",
    "version": 2
   },
   "file_extension": ".py",
   "mimetype": "text/x-python",
   "name": "python",
   "nbconvert_exporter": "python",
   "pygments_lexer": "ipython2",
   "version": "2.7.6"
  }
 },
 "nbformat": 4,
 "nbformat_minor": 5
}
